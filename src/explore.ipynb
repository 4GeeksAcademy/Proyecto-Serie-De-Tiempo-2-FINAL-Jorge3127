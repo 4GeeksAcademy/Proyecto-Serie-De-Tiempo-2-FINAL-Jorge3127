{
 "cells": [
  {
   "cell_type": "markdown",
   "metadata": {},
   "source": [
    "# Explore here"
   ]
  },
  {
   "cell_type": "code",
   "execution_count": 10,
   "metadata": {},
   "outputs": [],
   "source": [
    "# Your code here.\n",
    "import pandas as pd\n",
    "import numpy as np\n",
    "\n",
    "import matplotlib.pyplot as plt\n",
    "import seaborn as sns\n",
    "\n",
    "from statsmodels.tsa.seasonal import seasonal_decompose\n",
    "from statsmodels.tsa.stattools import adfuller\n",
    "from statsmodels.graphics.tsaplots import plot_acf\n",
    "\n",
    "from pmdarima import auto_arima\n",
    "\n",
    "import warnings"
   ]
  },
  {
   "cell_type": "code",
   "execution_count": 11,
   "metadata": {},
   "outputs": [],
   "source": [
    "\n",
    "# Cargar los datasets de acuíferosruta/a\n",
    "acuiferos1 = pd.read_csv('/workspaces/Proyecto-Serie-De-Tiempo-2-FINAL-Jorge3127/data/Aquifer_Auser.csv')\n",
    "acuiferos2 = pd.read_csv('/workspaces/Proyecto-Serie-De-Tiempo-2-FINAL-Jorge3127/data/Aquifer_Doganella.csv')\n",
    "acuiferos3 = pd.read_csv('/workspaces/Proyecto-Serie-De-Tiempo-2-FINAL-Jorge3127/data/Aquifer_Luco.csv')\n",
    "acuiferos4 = pd.read_csv('/workspaces/Proyecto-Serie-De-Tiempo-2-FINAL-Jorge3127/data/Aquifer_Petrignano.csv')\n",
    "\n",
    "# Unir los datasets por la columna 'Date'\n",
    "acuiferos = acuiferos1.merge(acuiferos2, on='Date').merge(acuiferos3, on='Date').merge(acuiferos4, on='Date')\n",
    "\n",
    "# Convertir 'Date' a tipo datetime e indexar\n",
    "acuiferos['Date'] = pd.to_datetime(acuiferos['Date'], format='%d/%m/%Y')\n",
    "\n",
    "# Repetir el proceso para manantiales, lago bilancino y río arno\n",
    "\n",
    "# Cargar los datasets de manantiales\n",
    "manantiales1 = pd.read_csv('/workspaces/Proyecto-Serie-De-Tiempo-2-FINAL-Jorge3127/data/Water_Spring_Amiata.csv')\n",
    "manantiales2 = pd.read_csv('/workspaces/Proyecto-Serie-De-Tiempo-2-FINAL-Jorge3127/data/Water_Spring_Lupa.csv')\n",
    "manantiales3 = pd.read_csv('/workspaces/Proyecto-Serie-De-Tiempo-2-FINAL-Jorge3127/data/Water_Spring_Madonna_di_Canneto.csv')\n",
    "\n",
    "# Unir los datasets por la columna 'Date'\n",
    "manantiales = manantiales1.merge(manantiales2, on='Date').merge(manantiales3, on='Date')\n",
    "\n",
    "# Convertir 'Date' a tipo datetime e indexar\n",
    "manantiales['Date'] = pd.to_datetime(manantiales['Date'], format='%d/%m/%Y')\n",
    "\n",
    "# Cargar los datasets de lago Bilancino\n",
    "lago_bilancino = pd.read_csv('/workspaces/Proyecto-Serie-De-Tiempo-2-FINAL-Jorge3127/data/Lake_Bilancino.csv')\n",
    "\n",
    "# Convertir 'Date' a tipo datetime e indexar\n",
    "lago_bilancino['Date'] = pd.to_datetime(lago_bilancino['Date'], format='%d/%m/%Y')\n",
    "\n",
    "# Cargar los datasets de río Arno\n",
    "rio_arno = pd.read_csv('/workspaces/Proyecto-Serie-De-Tiempo-2-FINAL-Jorge3127/data/River_Arno.csv')\n",
    "\n",
    "# Convertir 'Date' a tipo datetime e indexar\n",
    "rio_arno['Date'] = pd.to_datetime(rio_arno['Date'], format='%d/%m/%Y')\n"
   ]
  },
  {
   "cell_type": "code",
   "execution_count": 12,
   "metadata": {},
   "outputs": [],
   "source": [
    "manantiales = manantiales.dropna()\n",
    "acuiferos = acuiferos.dropna()\n",
    "lago_bilancino = lago_bilancino.dropna()\n",
    "rio_arno = rio_arno.dropna()"
   ]
  },
  {
   "cell_type": "code",
   "execution_count": 13,
   "metadata": {},
   "outputs": [
    {
     "name": "stdout",
     "output_type": "stream",
     "text": [
      "Index(['Date', 'Rainfall_Castel_del_Piano', 'Rainfall_Abbadia_S_Salvatore',\n",
      "       'Rainfall_S_Fiora', 'Rainfall_Laghetto_Verde', 'Rainfall_Vetta_Amiata',\n",
      "       'Depth_to_Groundwater_S_Fiora_8', 'Depth_to_Groundwater_S_Fiora_11bis',\n",
      "       'Depth_to_Groundwater_David_Lazzaretti',\n",
      "       'Temperature_Abbadia_S_Salvatore', 'Temperature_S_Fiora',\n",
      "       'Temperature_Laghetto_Verde', 'Flow_Rate_Bugnano', 'Flow_Rate_Arbure',\n",
      "       'Flow_Rate_Ermicciolo', 'Flow_Rate_Galleria_Alta', 'Rainfall_Terni',\n",
      "       'Flow_Rate_Lupa', 'Rainfall_Settefrati', 'Temperature_Settefrati',\n",
      "       'Flow_Rate_Madonna_di_Canneto'],\n",
      "      dtype='object')\n"
     ]
    }
   ],
   "source": [
    "# Verificar los nombres de las columnas en el dataframe lago_bilancino\n",
    "print(manantiales.columns)"
   ]
  },
  {
   "cell_type": "code",
   "execution_count": 14,
   "metadata": {},
   "outputs": [
    {
     "name": "stdout",
     "output_type": "stream",
     "text": [
      "Index(['Date', 'Rainfall_Gallicano', 'Rainfall_Pontetetto',\n",
      "       'Rainfall_Monte_Serra', 'Rainfall_Orentano', 'Rainfall_Borgo_a_Mozzano',\n",
      "       'Rainfall_Piaggione', 'Rainfall_Calavorno', 'Rainfall_Croce_Arcana',\n",
      "       'Rainfall_Tereglio_Coreglia_Antelminelli',\n",
      "       'Rainfall_Fabbriche_di_Vallico', 'Depth_to_Groundwater_LT2',\n",
      "       'Depth_to_Groundwater_SAL', 'Depth_to_Groundwater_PAG',\n",
      "       'Depth_to_Groundwater_CoS', 'Depth_to_Groundwater_DIEC',\n",
      "       'Temperature_Orentano', 'Temperature_Monte_Serra',\n",
      "       'Temperature_Ponte_a_Moriano', 'Temperature_Lucca_Orto_Botanico',\n",
      "       'Volume_POL', 'Volume_CC1', 'Volume_CC2', 'Volume_CSA', 'Volume_CSAL',\n",
      "       'Hydrometry_Monte_S_Quirico', 'Hydrometry_Piaggione',\n",
      "       'Rainfall_Monteporzio', 'Rainfall_Velletri',\n",
      "       'Depth_to_Groundwater_Pozzo_1_x', 'Depth_to_Groundwater_Pozzo_2',\n",
      "       'Depth_to_Groundwater_Pozzo_3_x', 'Depth_to_Groundwater_Pozzo_4_x',\n",
      "       'Depth_to_Groundwater_Pozzo_5', 'Depth_to_Groundwater_Pozzo_6',\n",
      "       'Depth_to_Groundwater_Pozzo_7', 'Depth_to_Groundwater_Pozzo_8',\n",
      "       'Depth_to_Groundwater_Pozzo_9', 'Volume_Pozzo_1_x', 'Volume_Pozzo_2',\n",
      "       'Volume_Pozzo_3_x', 'Volume_Pozzo_4_x', 'Volume_Pozzo_5+6',\n",
      "       'Volume_Pozzo_7', 'Volume_Pozzo_8', 'Volume_Pozzo_9',\n",
      "       'Temperature_Monteporzio', 'Temperature_Velletri', 'Rainfall_Simignano',\n",
      "       'Rainfall_Siena_Poggio_al_Vento', 'Rainfall_Mensano',\n",
      "       'Rainfall_Montalcinello', 'Rainfall_Monticiano_la_Pineta',\n",
      "       'Rainfall_Sovicille', 'Rainfall_Ponte_Orgia', 'Rainfall_Scorgiano',\n",
      "       'Rainfall_Pentolina', 'Rainfall_Monteroni_Arbia_Biena',\n",
      "       'Depth_to_Groundwater_Podere_Casetta', 'Depth_to_Groundwater_Pozzo_1_y',\n",
      "       'Depth_to_Groundwater_Pozzo_3_y', 'Depth_to_Groundwater_Pozzo_4_y',\n",
      "       'Temperature_Siena_Poggio_al_Vento', 'Temperature_Mensano',\n",
      "       'Temperature_Pentolina', 'Temperature_Monteroni_Arbia_Biena',\n",
      "       'Volume_Pozzo_1_y', 'Volume_Pozzo_3_y', 'Volume_Pozzo_4_y',\n",
      "       'Rainfall_Bastia_Umbra', 'Depth_to_Groundwater_P24',\n",
      "       'Depth_to_Groundwater_P25', 'Temperature_Bastia_Umbra',\n",
      "       'Temperature_Petrignano', 'Volume_C10_Petrignano',\n",
      "       'Hydrometry_Fiume_Chiascio_Petrignano'],\n",
      "      dtype='object')\n"
     ]
    }
   ],
   "source": [
    "# Verificar los nombres de las columnas en el dataframe lago_bilancino\n",
    "print(acuiferos.columns)"
   ]
  },
  {
   "cell_type": "code",
   "execution_count": 15,
   "metadata": {},
   "outputs": [
    {
     "name": "stdout",
     "output_type": "stream",
     "text": [
      "Index(['Date', 'Rainfall_S_Piero', 'Rainfall_Mangona', 'Rainfall_S_Agata',\n",
      "       'Rainfall_Cavallina', 'Rainfall_Le_Croci', 'Temperature_Le_Croci',\n",
      "       'Lake_Level', 'Flow_Rate'],\n",
      "      dtype='object')\n"
     ]
    }
   ],
   "source": [
    "# Verificar los nombres de las columnas en el dataframe lago_bilancino\n",
    "print(lago_bilancino.columns)"
   ]
  },
  {
   "cell_type": "code",
   "execution_count": 16,
   "metadata": {},
   "outputs": [
    {
     "name": "stdout",
     "output_type": "stream",
     "text": [
      "Index(['Date', 'Rainfall_Le_Croci', 'Rainfall_Cavallina', 'Rainfall_S_Agata',\n",
      "       'Rainfall_Mangona', 'Rainfall_S_Piero', 'Rainfall_Vernio',\n",
      "       'Rainfall_Stia', 'Rainfall_Consuma', 'Rainfall_Incisa',\n",
      "       'Rainfall_Montevarchi', 'Rainfall_S_Savino', 'Rainfall_Laterina',\n",
      "       'Rainfall_Bibbiena', 'Rainfall_Camaldoli', 'Temperature_Firenze',\n",
      "       'Hydrometry_Nave_di_Rosano'],\n",
      "      dtype='object')\n"
     ]
    }
   ],
   "source": [
    "# Verificar los nombres de las columnas en el dataframe lago_bilancino\n",
    "print(rio_arno.columns)"
   ]
  },
  {
   "cell_type": "code",
   "execution_count": 17,
   "metadata": {},
   "outputs": [
    {
     "data": {
      "text/plain": [
       "Date\n",
       "2016-04-13   -0.359877\n",
       "2016-04-14   -0.359877\n",
       "2016-04-15   -0.359877\n",
       "2016-04-19   -0.359877\n",
       "2016-04-20   -0.359877\n",
       "Name: Flow_Rate_Bugnano, dtype: float64"
      ]
     },
     "execution_count": 17,
     "metadata": {},
     "output_type": "execute_result"
    }
   ],
   "source": [
    "manantiales = manantiales.set_index(\"Date\")\n",
    "ts_manantial = manantiales[\"Flow_Rate_Bugnano\"]\n",
    "ts_manantial.head()"
   ]
  },
  {
   "cell_type": "code",
   "execution_count": 18,
   "metadata": {},
   "outputs": [
    {
     "data": {
      "text/plain": [
       "Series([], Name: Depth_to_Groundwater_P25, dtype: float64)"
      ]
     },
     "execution_count": 18,
     "metadata": {},
     "output_type": "execute_result"
    }
   ],
   "source": [
    "acuiferos = acuiferos.set_index(\"Date\")\n",
    "ts_acuifero = acuiferos[\"Depth_to_Groundwater_P25\"]\n",
    "ts_acuifero.head()"
   ]
  },
  {
   "cell_type": "code",
   "execution_count": 19,
   "metadata": {},
   "outputs": [
    {
     "data": {
      "text/plain": [
       "Date\n",
       "2004-01-02    251.21\n",
       "2004-01-03    251.28\n",
       "2004-01-04    251.35\n",
       "2004-01-05    251.37\n",
       "2004-01-06    251.42\n",
       "Name: Lake_Level, dtype: float64"
      ]
     },
     "execution_count": 19,
     "metadata": {},
     "output_type": "execute_result"
    }
   ],
   "source": [
    "lago_bilancino = lago_bilancino.set_index(\"Date\")\n",
    "ts_lago_bilancino = lago_bilancino[\"Lake_Level\"]\n",
    "ts_lago_bilancino.head()"
   ]
  },
  {
   "cell_type": "code",
   "execution_count": 20,
   "metadata": {},
   "outputs": [
    {
     "data": {
      "text/plain": [
       "Date\n",
       "2004-01-01    1.84\n",
       "2004-01-02    1.93\n",
       "2004-01-03    1.61\n",
       "2004-01-04    1.35\n",
       "2004-01-05    1.44\n",
       "Name: Hydrometry_Nave_di_Rosano, dtype: float64"
      ]
     },
     "execution_count": 20,
     "metadata": {},
     "output_type": "execute_result"
    }
   ],
   "source": [
    "rio_arno = rio_arno.set_index(\"Date\")\n",
    "ts_rio_arno = rio_arno[\"Hydrometry_Nave_di_Rosano\"]\n",
    "ts_rio_arno.head()"
   ]
  },
  {
   "cell_type": "code",
   "execution_count": 21,
   "metadata": {},
   "outputs": [
    {
     "data": {
      "text/plain": [
       "<statsmodels.tsa.seasonal.DecomposeResult at 0x713b0a362290>"
      ]
     },
     "execution_count": 21,
     "metadata": {},
     "output_type": "execute_result"
    }
   ],
   "source": [
    "descomposicion_manantiales = seasonal_decompose(ts_manantial, period = 12)\n",
    "descomposicion_manantiales"
   ]
  },
  {
   "cell_type": "code",
   "execution_count": 22,
   "metadata": {},
   "outputs": [
    {
     "data": {
      "text/plain": [
       "<statsmodels.tsa.seasonal.DecomposeResult at 0x713b09bfc2e0>"
      ]
     },
     "execution_count": 22,
     "metadata": {},
     "output_type": "execute_result"
    }
   ],
   "source": [
    "descomposicion_lago_bilancino = seasonal_decompose(ts_lago_bilancino, period = 12)\n",
    "descomposicion_lago_bilancino"
   ]
  },
  {
   "cell_type": "code",
   "execution_count": 23,
   "metadata": {},
   "outputs": [
    {
     "data": {
      "text/plain": [
       "<statsmodels.tsa.seasonal.DecomposeResult at 0x713b09bfc580>"
      ]
     },
     "execution_count": 23,
     "metadata": {},
     "output_type": "execute_result"
    }
   ],
   "source": [
    "descomposicion_rio_arno = seasonal_decompose(ts_rio_arno, period = 12)\n",
    "descomposicion_rio_arno"
   ]
  },
  {
   "cell_type": "code",
   "execution_count": 24,
   "metadata": {},
   "outputs": [
    {
     "name": "stdout",
     "output_type": "stream",
     "text": [
      "Performing stepwise search to minimize aic\n"
     ]
    },
    {
     "name": "stderr",
     "output_type": "stream",
     "text": [
      "/home/vscode/.local/lib/python3.10/site-packages/sklearn/utils/deprecation.py:151: FutureWarning: 'force_all_finite' was renamed to 'ensure_all_finite' in 1.6 and will be removed in 1.8.\n",
      "  warnings.warn(\n",
      "/home/vscode/.local/lib/python3.10/site-packages/sklearn/utils/deprecation.py:151: FutureWarning: 'force_all_finite' was renamed to 'ensure_all_finite' in 1.6 and will be removed in 1.8.\n",
      "  warnings.warn(\n",
      "/home/vscode/.local/lib/python3.10/site-packages/sklearn/utils/deprecation.py:151: FutureWarning: 'force_all_finite' was renamed to 'ensure_all_finite' in 1.6 and will be removed in 1.8.\n",
      "  warnings.warn(\n",
      "/home/vscode/.local/lib/python3.10/site-packages/sklearn/utils/deprecation.py:151: FutureWarning: 'force_all_finite' was renamed to 'ensure_all_finite' in 1.6 and will be removed in 1.8.\n",
      "  warnings.warn(\n",
      "/home/vscode/.local/lib/python3.10/site-packages/sklearn/utils/deprecation.py:151: FutureWarning: 'force_all_finite' was renamed to 'ensure_all_finite' in 1.6 and will be removed in 1.8.\n",
      "  warnings.warn(\n",
      "/home/vscode/.local/lib/python3.10/site-packages/sklearn/utils/deprecation.py:151: FutureWarning: 'force_all_finite' was renamed to 'ensure_all_finite' in 1.6 and will be removed in 1.8.\n",
      "  warnings.warn(\n",
      "/home/vscode/.local/lib/python3.10/site-packages/sklearn/utils/deprecation.py:151: FutureWarning: 'force_all_finite' was renamed to 'ensure_all_finite' in 1.6 and will be removed in 1.8.\n",
      "  warnings.warn(\n",
      "/home/vscode/.local/lib/python3.10/site-packages/sklearn/utils/deprecation.py:151: FutureWarning: 'force_all_finite' was renamed to 'ensure_all_finite' in 1.6 and will be removed in 1.8.\n",
      "  warnings.warn(\n",
      "/home/vscode/.local/lib/python3.10/site-packages/sklearn/utils/deprecation.py:151: FutureWarning: 'force_all_finite' was renamed to 'ensure_all_finite' in 1.6 and will be removed in 1.8.\n",
      "  warnings.warn(\n",
      "/home/vscode/.local/lib/python3.10/site-packages/sklearn/utils/deprecation.py:151: FutureWarning: 'force_all_finite' was renamed to 'ensure_all_finite' in 1.6 and will be removed in 1.8.\n",
      "  warnings.warn(\n",
      "/home/vscode/.local/lib/python3.10/site-packages/sklearn/utils/deprecation.py:151: FutureWarning: 'force_all_finite' was renamed to 'ensure_all_finite' in 1.6 and will be removed in 1.8.\n",
      "  warnings.warn(\n"
     ]
    },
    {
     "name": "stdout",
     "output_type": "stream",
     "text": [
      " ARIMA(2,1,2)(1,0,1)[12] intercept   : AIC=-1420.130, Time=0.53 sec\n",
      " ARIMA(0,1,0)(0,0,0)[12] intercept   : AIC=-1430.972, Time=0.03 sec\n"
     ]
    },
    {
     "name": "stderr",
     "output_type": "stream",
     "text": [
      "/home/vscode/.local/lib/python3.10/site-packages/sklearn/utils/deprecation.py:151: FutureWarning: 'force_all_finite' was renamed to 'ensure_all_finite' in 1.6 and will be removed in 1.8.\n",
      "  warnings.warn(\n",
      "/home/vscode/.local/lib/python3.10/site-packages/sklearn/utils/deprecation.py:151: FutureWarning: 'force_all_finite' was renamed to 'ensure_all_finite' in 1.6 and will be removed in 1.8.\n",
      "  warnings.warn(\n"
     ]
    },
    {
     "name": "stdout",
     "output_type": "stream",
     "text": [
      " ARIMA(1,1,0)(1,0,0)[12] intercept   : AIC=-1428.052, Time=0.29 sec\n"
     ]
    },
    {
     "name": "stderr",
     "output_type": "stream",
     "text": [
      "/home/vscode/.local/lib/python3.10/site-packages/sklearn/utils/deprecation.py:151: FutureWarning: 'force_all_finite' was renamed to 'ensure_all_finite' in 1.6 and will be removed in 1.8.\n",
      "  warnings.warn(\n"
     ]
    },
    {
     "name": "stdout",
     "output_type": "stream",
     "text": [
      " ARIMA(0,1,1)(0,0,1)[12] intercept   : AIC=-1428.020, Time=0.26 sec\n",
      " ARIMA(0,1,0)(0,0,0)[12]             : AIC=-1432.568, Time=0.03 sec\n",
      " ARIMA(0,1,0)(1,0,0)[12] intercept   : AIC=-1429.165, Time=0.16 sec\n"
     ]
    },
    {
     "name": "stderr",
     "output_type": "stream",
     "text": [
      "/home/vscode/.local/lib/python3.10/site-packages/sklearn/utils/deprecation.py:151: FutureWarning: 'force_all_finite' was renamed to 'ensure_all_finite' in 1.6 and will be removed in 1.8.\n",
      "  warnings.warn(\n",
      "/home/vscode/.local/lib/python3.10/site-packages/sklearn/utils/deprecation.py:151: FutureWarning: 'force_all_finite' was renamed to 'ensure_all_finite' in 1.6 and will be removed in 1.8.\n",
      "  warnings.warn(\n",
      "/home/vscode/.local/lib/python3.10/site-packages/sklearn/utils/deprecation.py:151: FutureWarning: 'force_all_finite' was renamed to 'ensure_all_finite' in 1.6 and will be removed in 1.8.\n",
      "  warnings.warn(\n"
     ]
    },
    {
     "name": "stdout",
     "output_type": "stream",
     "text": [
      " ARIMA(0,1,0)(0,0,1)[12] intercept   : AIC=-1429.158, Time=0.13 sec\n",
      " ARIMA(0,1,0)(1,0,1)[12] intercept   : AIC=-1427.179, Time=0.15 sec\n",
      " ARIMA(1,1,0)(0,0,0)[12] intercept   : AIC=-1429.846, Time=0.04 sec\n"
     ]
    },
    {
     "name": "stderr",
     "output_type": "stream",
     "text": [
      "/home/vscode/.local/lib/python3.10/site-packages/sklearn/utils/deprecation.py:151: FutureWarning: 'force_all_finite' was renamed to 'ensure_all_finite' in 1.6 and will be removed in 1.8.\n",
      "  warnings.warn(\n",
      "/home/vscode/.local/lib/python3.10/site-packages/sklearn/utils/deprecation.py:151: FutureWarning: 'force_all_finite' was renamed to 'ensure_all_finite' in 1.6 and will be removed in 1.8.\n",
      "  warnings.warn(\n",
      "/home/vscode/.local/lib/python3.10/site-packages/sklearn/utils/deprecation.py:151: FutureWarning: 'force_all_finite' was renamed to 'ensure_all_finite' in 1.6 and will be removed in 1.8.\n",
      "  warnings.warn(\n"
     ]
    },
    {
     "name": "stdout",
     "output_type": "stream",
     "text": [
      " ARIMA(0,1,1)(0,0,0)[12] intercept   : AIC=-1429.822, Time=0.07 sec\n",
      " ARIMA(1,1,1)(0,0,0)[12] intercept   : AIC=-1427.901, Time=0.11 sec\n",
      "\n",
      "Best model:  ARIMA(0,1,0)(0,0,0)[12]          \n",
      "Total fit time: 1.855 seconds\n"
     ]
    },
    {
     "name": "stderr",
     "output_type": "stream",
     "text": [
      "/home/vscode/.local/lib/python3.10/site-packages/sklearn/utils/deprecation.py:151: FutureWarning: 'force_all_finite' was renamed to 'ensure_all_finite' in 1.6 and will be removed in 1.8.\n",
      "  warnings.warn(\n",
      "/home/vscode/.local/lib/python3.10/site-packages/statsmodels/tsa/base/tsa_model.py:837: ValueWarning: No supported index is available. Prediction results will be given with an integer index beginning at `start`.\n",
      "  return get_prediction_index(\n",
      "/home/vscode/.local/lib/python3.10/site-packages/statsmodels/tsa/base/tsa_model.py:837: FutureWarning: No supported index is available. In the next version, calling this method in a model without a supported index will result in an exception.\n",
      "  return get_prediction_index(\n",
      "/home/vscode/.local/lib/python3.10/site-packages/sklearn/utils/deprecation.py:151: FutureWarning: 'force_all_finite' was renamed to 'ensure_all_finite' in 1.6 and will be removed in 1.8.\n",
      "  warnings.warn(\n"
     ]
    },
    {
     "data": {
      "text/plain": [
       "347    0.0\n",
       "348    0.0\n",
       "349    0.0\n",
       "350    0.0\n",
       "351    0.0\n",
       "352    0.0\n",
       "353    0.0\n",
       "354    0.0\n",
       "355    0.0\n",
       "356    0.0\n",
       "357    0.0\n",
       "358    0.0\n",
       "dtype: float64"
      ]
     },
     "execution_count": 24,
     "metadata": {},
     "output_type": "execute_result"
    },
    {
     "ename": "",
     "evalue": "",
     "output_type": "error",
     "traceback": [
      "\u001b[1;31mEl kernel se bloqueó al ejecutar código en la celda actual o en una celda anterior. \n",
      "\u001b[1;31mRevise el código de las celdas para identificar una posible causa del error. \n",
      "\u001b[1;31mHaga clic <a href='https://aka.ms/vscodeJupyterKernelCrash'>aquí</a> para obtener más información. \n",
      "\u001b[1;31mVea Jupyter <a href='command:jupyter.viewOutput'>log</a> para obtener más detalles."
     ]
    }
   ],
   "source": [
    "model_manantiales = auto_arima(ts_manantial, seasonal = True, trace = True, m = 12)\n",
    "forecast_manatiales = model_manantiales.predict(12)\n",
    "forecast_manatiales"
   ]
  },
  {
   "cell_type": "code",
   "execution_count": null,
   "metadata": {},
   "outputs": [
    {
     "name": "stdout",
     "output_type": "stream",
     "text": [
      "Performing stepwise search to minimize aic\n"
     ]
    },
    {
     "name": "stderr",
     "output_type": "stream",
     "text": [
      "/home/vscode/.local/lib/python3.10/site-packages/sklearn/utils/deprecation.py:151: FutureWarning: 'force_all_finite' was renamed to 'ensure_all_finite' in 1.6 and will be removed in 1.8.\n",
      "  warnings.warn(\n",
      "/home/vscode/.local/lib/python3.10/site-packages/sklearn/utils/deprecation.py:151: FutureWarning: 'force_all_finite' was renamed to 'ensure_all_finite' in 1.6 and will be removed in 1.8.\n",
      "  warnings.warn(\n",
      "/home/vscode/.local/lib/python3.10/site-packages/sklearn/utils/deprecation.py:151: FutureWarning: 'force_all_finite' was renamed to 'ensure_all_finite' in 1.6 and will be removed in 1.8.\n",
      "  warnings.warn(\n",
      "/home/vscode/.local/lib/python3.10/site-packages/sklearn/utils/deprecation.py:151: FutureWarning: 'force_all_finite' was renamed to 'ensure_all_finite' in 1.6 and will be removed in 1.8.\n",
      "  warnings.warn(\n",
      "/home/vscode/.local/lib/python3.10/site-packages/sklearn/utils/deprecation.py:151: FutureWarning: 'force_all_finite' was renamed to 'ensure_all_finite' in 1.6 and will be removed in 1.8.\n",
      "  warnings.warn(\n",
      "/home/vscode/.local/lib/python3.10/site-packages/sklearn/utils/deprecation.py:151: FutureWarning: 'force_all_finite' was renamed to 'ensure_all_finite' in 1.6 and will be removed in 1.8.\n",
      "  warnings.warn(\n",
      "/home/vscode/.local/lib/python3.10/site-packages/sklearn/utils/deprecation.py:151: FutureWarning: 'force_all_finite' was renamed to 'ensure_all_finite' in 1.6 and will be removed in 1.8.\n",
      "  warnings.warn(\n",
      "/home/vscode/.local/lib/python3.10/site-packages/sklearn/utils/deprecation.py:151: FutureWarning: 'force_all_finite' was renamed to 'ensure_all_finite' in 1.6 and will be removed in 1.8.\n",
      "  warnings.warn(\n",
      "/home/vscode/.local/lib/python3.10/site-packages/sklearn/utils/deprecation.py:151: FutureWarning: 'force_all_finite' was renamed to 'ensure_all_finite' in 1.6 and will be removed in 1.8.\n",
      "  warnings.warn(\n",
      "/home/vscode/.local/lib/python3.10/site-packages/sklearn/utils/deprecation.py:151: FutureWarning: 'force_all_finite' was renamed to 'ensure_all_finite' in 1.6 and will be removed in 1.8.\n",
      "  warnings.warn(\n",
      "/home/vscode/.local/lib/python3.10/site-packages/sklearn/utils/deprecation.py:151: FutureWarning: 'force_all_finite' was renamed to 'ensure_all_finite' in 1.6 and will be removed in 1.8.\n",
      "  warnings.warn(\n"
     ]
    },
    {
     "name": "stdout",
     "output_type": "stream",
     "text": [
      " ARIMA(2,1,2)(1,0,1)[12] intercept   : AIC=-11652.050, Time=11.95 sec\n",
      " ARIMA(0,1,0)(0,0,0)[12] intercept   : AIC=-10210.695, Time=0.20 sec\n"
     ]
    },
    {
     "name": "stderr",
     "output_type": "stream",
     "text": [
      "/home/vscode/.local/lib/python3.10/site-packages/sklearn/utils/deprecation.py:151: FutureWarning: 'force_all_finite' was renamed to 'ensure_all_finite' in 1.6 and will be removed in 1.8.\n",
      "  warnings.warn(\n",
      "/home/vscode/.local/lib/python3.10/site-packages/sklearn/utils/deprecation.py:151: FutureWarning: 'force_all_finite' was renamed to 'ensure_all_finite' in 1.6 and will be removed in 1.8.\n",
      "  warnings.warn(\n"
     ]
    },
    {
     "name": "stdout",
     "output_type": "stream",
     "text": [
      " ARIMA(1,1,0)(1,0,0)[12] intercept   : AIC=-11573.062, Time=2.92 sec\n"
     ]
    },
    {
     "name": "stderr",
     "output_type": "stream",
     "text": [
      "/home/vscode/.local/lib/python3.10/site-packages/sklearn/utils/deprecation.py:151: FutureWarning: 'force_all_finite' was renamed to 'ensure_all_finite' in 1.6 and will be removed in 1.8.\n",
      "  warnings.warn(\n"
     ]
    },
    {
     "name": "stdout",
     "output_type": "stream",
     "text": [
      " ARIMA(0,1,1)(0,0,1)[12] intercept   : AIC=-11236.651, Time=3.07 sec\n",
      " ARIMA(0,1,0)(0,0,0)[12]             : AIC=-10212.692, Time=0.18 sec\n"
     ]
    },
    {
     "name": "stderr",
     "output_type": "stream",
     "text": [
      "/home/vscode/.local/lib/python3.10/site-packages/sklearn/utils/deprecation.py:151: FutureWarning: 'force_all_finite' was renamed to 'ensure_all_finite' in 1.6 and will be removed in 1.8.\n",
      "  warnings.warn(\n",
      "/home/vscode/.local/lib/python3.10/site-packages/sklearn/utils/deprecation.py:151: FutureWarning: 'force_all_finite' was renamed to 'ensure_all_finite' in 1.6 and will be removed in 1.8.\n",
      "  warnings.warn(\n"
     ]
    },
    {
     "name": "stdout",
     "output_type": "stream",
     "text": [
      " ARIMA(2,1,2)(0,0,1)[12] intercept   : AIC=-11654.849, Time=10.66 sec\n"
     ]
    },
    {
     "name": "stderr",
     "output_type": "stream",
     "text": [
      "/home/vscode/.local/lib/python3.10/site-packages/sklearn/utils/deprecation.py:151: FutureWarning: 'force_all_finite' was renamed to 'ensure_all_finite' in 1.6 and will be removed in 1.8.\n",
      "  warnings.warn(\n"
     ]
    },
    {
     "name": "stdout",
     "output_type": "stream",
     "text": [
      " ARIMA(2,1,2)(0,0,0)[12] intercept   : AIC=-11674.621, Time=4.70 sec\n"
     ]
    },
    {
     "name": "stderr",
     "output_type": "stream",
     "text": [
      "/home/vscode/.local/lib/python3.10/site-packages/sklearn/utils/deprecation.py:151: FutureWarning: 'force_all_finite' was renamed to 'ensure_all_finite' in 1.6 and will be removed in 1.8.\n",
      "  warnings.warn(\n"
     ]
    },
    {
     "name": "stdout",
     "output_type": "stream",
     "text": [
      " ARIMA(2,1,2)(1,0,0)[12] intercept   : AIC=-11667.894, Time=12.08 sec\n"
     ]
    },
    {
     "name": "stderr",
     "output_type": "stream",
     "text": [
      "/home/vscode/.local/lib/python3.10/site-packages/sklearn/utils/deprecation.py:151: FutureWarning: 'force_all_finite' was renamed to 'ensure_all_finite' in 1.6 and will be removed in 1.8.\n",
      "  warnings.warn(\n"
     ]
    },
    {
     "name": "stdout",
     "output_type": "stream",
     "text": [
      " ARIMA(1,1,2)(0,0,0)[12] intercept   : AIC=-11642.642, Time=3.75 sec\n"
     ]
    },
    {
     "name": "stderr",
     "output_type": "stream",
     "text": [
      "/home/vscode/.local/lib/python3.10/site-packages/sklearn/utils/deprecation.py:151: FutureWarning: 'force_all_finite' was renamed to 'ensure_all_finite' in 1.6 and will be removed in 1.8.\n",
      "  warnings.warn(\n"
     ]
    },
    {
     "name": "stdout",
     "output_type": "stream",
     "text": [
      " ARIMA(2,1,1)(0,0,0)[12] intercept   : AIC=-11678.687, Time=4.07 sec\n"
     ]
    },
    {
     "name": "stderr",
     "output_type": "stream",
     "text": [
      "/home/vscode/.local/lib/python3.10/site-packages/sklearn/utils/deprecation.py:151: FutureWarning: 'force_all_finite' was renamed to 'ensure_all_finite' in 1.6 and will be removed in 1.8.\n",
      "  warnings.warn(\n"
     ]
    },
    {
     "name": "stdout",
     "output_type": "stream",
     "text": [
      " ARIMA(2,1,1)(1,0,0)[12] intercept   : AIC=-11681.357, Time=10.93 sec\n"
     ]
    },
    {
     "name": "stderr",
     "output_type": "stream",
     "text": [
      "/home/vscode/.local/lib/python3.10/site-packages/sklearn/utils/deprecation.py:151: FutureWarning: 'force_all_finite' was renamed to 'ensure_all_finite' in 1.6 and will be removed in 1.8.\n",
      "  warnings.warn(\n"
     ]
    },
    {
     "name": "stdout",
     "output_type": "stream",
     "text": [
      " ARIMA(2,1,1)(2,0,0)[12] intercept   : AIC=-11685.018, Time=28.08 sec\n"
     ]
    },
    {
     "name": "stderr",
     "output_type": "stream",
     "text": [
      "/home/vscode/.local/lib/python3.10/site-packages/sklearn/utils/deprecation.py:151: FutureWarning: 'force_all_finite' was renamed to 'ensure_all_finite' in 1.6 and will be removed in 1.8.\n",
      "  warnings.warn(\n"
     ]
    },
    {
     "name": "stdout",
     "output_type": "stream",
     "text": [
      " ARIMA(2,1,1)(2,0,1)[12] intercept   : AIC=-11673.311, Time=29.32 sec\n"
     ]
    },
    {
     "name": "stderr",
     "output_type": "stream",
     "text": [
      "/home/vscode/.local/lib/python3.10/site-packages/sklearn/utils/deprecation.py:151: FutureWarning: 'force_all_finite' was renamed to 'ensure_all_finite' in 1.6 and will be removed in 1.8.\n",
      "  warnings.warn(\n"
     ]
    },
    {
     "name": "stdout",
     "output_type": "stream",
     "text": [
      " ARIMA(2,1,1)(1,0,1)[12] intercept   : AIC=-11674.320, Time=11.49 sec\n"
     ]
    },
    {
     "name": "stderr",
     "output_type": "stream",
     "text": [
      "/home/vscode/.local/lib/python3.10/site-packages/sklearn/utils/deprecation.py:151: FutureWarning: 'force_all_finite' was renamed to 'ensure_all_finite' in 1.6 and will be removed in 1.8.\n",
      "  warnings.warn(\n"
     ]
    },
    {
     "name": "stdout",
     "output_type": "stream",
     "text": [
      " ARIMA(1,1,1)(2,0,0)[12] intercept   : AIC=-11648.960, Time=13.12 sec\n"
     ]
    },
    {
     "name": "stderr",
     "output_type": "stream",
     "text": [
      "/home/vscode/.local/lib/python3.10/site-packages/sklearn/utils/deprecation.py:151: FutureWarning: 'force_all_finite' was renamed to 'ensure_all_finite' in 1.6 and will be removed in 1.8.\n",
      "  warnings.warn(\n"
     ]
    },
    {
     "name": "stdout",
     "output_type": "stream",
     "text": [
      " ARIMA(2,1,0)(2,0,0)[12] intercept   : AIC=-11640.789, Time=11.96 sec\n"
     ]
    },
    {
     "name": "stderr",
     "output_type": "stream",
     "text": [
      "/home/vscode/.local/lib/python3.10/site-packages/sklearn/utils/deprecation.py:151: FutureWarning: 'force_all_finite' was renamed to 'ensure_all_finite' in 1.6 and will be removed in 1.8.\n",
      "  warnings.warn(\n"
     ]
    },
    {
     "name": "stdout",
     "output_type": "stream",
     "text": [
      " ARIMA(3,1,1)(2,0,0)[12] intercept   : AIC=-11661.130, Time=32.62 sec\n"
     ]
    },
    {
     "name": "stderr",
     "output_type": "stream",
     "text": [
      "/home/vscode/.local/lib/python3.10/site-packages/sklearn/utils/deprecation.py:151: FutureWarning: 'force_all_finite' was renamed to 'ensure_all_finite' in 1.6 and will be removed in 1.8.\n",
      "  warnings.warn(\n"
     ]
    },
    {
     "name": "stdout",
     "output_type": "stream",
     "text": [
      " ARIMA(2,1,2)(2,0,0)[12] intercept   : AIC=-11666.964, Time=32.94 sec\n"
     ]
    },
    {
     "name": "stderr",
     "output_type": "stream",
     "text": [
      "/home/vscode/.local/lib/python3.10/site-packages/sklearn/utils/deprecation.py:151: FutureWarning: 'force_all_finite' was renamed to 'ensure_all_finite' in 1.6 and will be removed in 1.8.\n",
      "  warnings.warn(\n"
     ]
    }
   ],
   "source": [
    "model_lago_bilancino = auto_arima(ts_lago_bilancino, seasonal = True, trace = True, m = 12)\n",
    "forecast_lago_bilancino = model_lago_bilancino.predict(12)\n",
    "forecast_lago_bilancino"
   ]
  },
  {
   "cell_type": "code",
   "execution_count": null,
   "metadata": {},
   "outputs": [],
   "source": [
    "model_rio_arno = auto_arima(ts_rio_arno, seasonal = True, trace = True, m = 12)\n",
    "forecast_rio_arno = model_rio_arno.predict(12)\n",
    "forecast_rio_arno"
   ]
  },
  {
   "cell_type": "code",
   "execution_count": null,
   "metadata": {},
   "outputs": [],
   "source": [
    "fig, axis = plt.subplots(figsize = (8, 4))\n",
    "sns.lineplot(data = ts_manantial)\n",
    "sns.lineplot(data = forecast_manatiales, c = \"green\")\n",
    "plt.tight_layout()\n",
    "plt.show()"
   ]
  },
  {
   "cell_type": "code",
   "execution_count": null,
   "metadata": {},
   "outputs": [],
   "source": [
    "fig, axis = plt.subplots(figsize = (8, 4))\n",
    "sns.lineplot(data = ts_lago_bilancino)\n",
    "sns.lineplot(data = forecast_lago_bilancino, c = \"green\")\n",
    "plt.tight_layout()\n",
    "plt.show()"
   ]
  },
  {
   "cell_type": "code",
   "execution_count": null,
   "metadata": {},
   "outputs": [],
   "source": [
    "fig, axis = plt.subplots(figsize = (8, 4))\n",
    "sns.lineplot(data = ts_rio_arno)\n",
    "sns.lineplot(data = forecast_rio_arno, c = \"green\")\n",
    "plt.tight_layout()\n",
    "plt.show()"
   ]
  }
 ],
 "metadata": {
  "kernelspec": {
   "display_name": "Python 3",
   "language": "python",
   "name": "python3"
  },
  "language_info": {
   "codemirror_mode": {
    "name": "ipython",
    "version": 3
   },
   "file_extension": ".py",
   "mimetype": "text/x-python",
   "name": "python",
   "nbconvert_exporter": "python",
   "pygments_lexer": "ipython3",
   "version": "3.10.12"
  },
  "orig_nbformat": 4
 },
 "nbformat": 4,
 "nbformat_minor": 2
}
